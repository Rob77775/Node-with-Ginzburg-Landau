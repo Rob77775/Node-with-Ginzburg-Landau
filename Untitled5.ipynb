{
 "cells": [
  {
   "cell_type": "code",
   "execution_count": 1,
   "id": "f632595f",
   "metadata": {},
   "outputs": [],
   "source": [
    "from scipy.integrate import odeint\n",
    "from scipy.integrate import solve_ivp\n",
    "import math\n",
    "import numpy as np\n",
    "from IPython.display import clear_output\n",
    "from tqdm import tqdm_notebook as tqdm\n",
    "import matplotlib as mpl\n",
    "import matplotlib.pyplot as plt\n",
    "import matplotlib as mpl\n",
    "import matplotlib.cm as cm\n",
    "import torch\n",
    "from torch import Tensor\n",
    "from torch import nn\n",
    "from torch.nn  import functional as F \n",
    "from torch.autograd import Variable\n",
    "use_cuda = torch.cuda.is_available()\n",
    "from tqdm import tqdm\n",
    "from sklearn.datasets import make_regression\n",
    "import torch.nn.functional as F\n",
    "import cv2\n",
    "import multiprocessing\n",
    "from typing import Optional\n",
    "from joblib import Parallel, delayed\n",
    "from IPython.display import Image\n",
    "import os"
   ]
  },
  {
   "cell_type": "code",
   "execution_count": 2,
   "id": "c206a4db",
   "metadata": {},
   "outputs": [],
   "source": [
    "def to_np(x):\n",
    "    return x.detach().cpu().numpy()"
   ]
  },
  {
   "cell_type": "code",
   "execution_count": 3,
   "id": "2f687630",
   "metadata": {},
   "outputs": [],
   "source": [
    "def ode_solve(z0, t0, t1, f):\n",
    "    h_max = 0.01\n",
    "    n_steps = math.ceil((abs(t1 - t0)/h_max).max().item())\n",
    "    h = (t1 - t0)/n_steps\n",
    "    t = t0\n",
    "    z = z0\n",
    "    for i_step in range(n_steps):\n",
    "        z = z + h * f(z, t)\n",
    "        t = t + h\n",
    "    return z"
   ]
  },
  {
   "cell_type": "code",
   "execution_count": 4,
   "id": "073cb4ac",
   "metadata": {},
   "outputs": [],
   "source": [
    "class ODEF(nn.Module):\n",
    "    def forward_with_grad(self, z, t, grad_outputs):\n",
    "        \"\"\"Compute f and a df/dz, a df/dp, a df/dt\"\"\"\n",
    "        batch_size = z.shape[0]\n",
    "        out = self.forward(z, t)\n",
    "        # print(self.parameters())\n",
    "        # print(grad_outputs)\n",
    "        a = grad_outputs\n",
    "        adfdz, adfdt, *adfdp = torch.autograd.grad(\n",
    "            (out,), (z, t) + tuple(self.parameters()), grad_outputs=(a),\n",
    "            allow_unused=True, retain_graph=True\n",
    "        )\n",
    "        if adfdp is not None:\n",
    "            adfdp = torch.cat([p_grad.flatten() for p_grad in adfdp]).unsqueeze(0)\n",
    "            adfdp = adfdp.expand(batch_size, -1) / batch_size\n",
    "        if adfdt is not None:\n",
    "            adfdt = adfdt.expand(batch_size, 1) / batch_size\n",
    "        return out, adfdz, adfdt, adfdp\n",
    "\n",
    "    def flatten_parameters(self):\n",
    "        p_shapes = []\n",
    "        flat_parameters = []\n",
    "        for p in self.parameters():\n",
    "            p_shapes.append(p.size())\n",
    "            flat_parameters.append(p.flatten())\n",
    "        return torch.cat(flat_parameters)"
   ]
  },
  {
   "cell_type": "code",
   "execution_count": 5,
   "id": "aea160e1",
   "metadata": {},
   "outputs": [],
   "source": [
    "class ODEAdjoint(torch.autograd.Function):\n",
    "    @staticmethod\n",
    "    def backward_body(func, t, z, flat_parameters, dLdz):\n",
    "        time_len, bs, *z_shape = z.size()\n",
    "        n_dim = np.prod(z_shape)\n",
    "        n_params = flat_parameters.size(0)\n",
    "\n",
    "        # Dynamics of augmented system to be calculated backwards in time\n",
    "        def augmented_dynamics(aug_z_i, t_i):\n",
    "            \"\"\"\n",
    "            tensors here are temporal slices\n",
    "            t_i - is tensor with size: bs, 1\n",
    "            aug_z_i - is tensor with size: bs, n_dim*2 + n_params + 1\n",
    "            \"\"\"\n",
    "            z_i, a = aug_z_i[:, :n_dim], aug_z_i[:, n_dim:2*n_dim]  # ignore parameters and time\n",
    "\n",
    "            # Unflatten z and a\n",
    "            z_i = z_i.view(bs, *z_shape)\n",
    "            a = a.view(bs, *z_shape)\n",
    "            with torch.set_grad_enabled(True):\n",
    "                t_i = t_i.detach().requires_grad_(True)\n",
    "                z_i = z_i.detach().requires_grad_(True)\n",
    "                func_eval, adfdz, adfdt, adfdp = func.forward_with_grad(z_i, t_i, grad_outputs=a)  # bs, *z_shape\n",
    "                adfdz = adfdz.to(z_i) if adfdz is not None else torch.zeros(bs, *z_shape).to(z_i)\n",
    "                adfdp = adfdp.to(z_i) if adfdp is not None else torch.zeros(bs, n_params).to(z_i)\n",
    "                adfdt = adfdt.to(z_i) if adfdt is not None else torch.zeros(bs, 1).to(z_i)\n",
    "\n",
    "            # Flatten f and adfdz\n",
    "            func_eval = func_eval.view(bs, n_dim)\n",
    "            adfdz = adfdz.view(bs, n_dim) \n",
    "            return torch.cat((func_eval, -adfdz, -adfdp, -adfdt), dim=1)\n",
    "\n",
    "        dLdz = dLdz.view(time_len, bs, n_dim)  # flatten dLdz for convenience\n",
    "        with torch.no_grad():\n",
    "            ## Create placeholders for output gradients\n",
    "            # Prev computed backwards adjoints to be adjusted by direct gradients\n",
    "            adj_z = torch.zeros(bs, n_dim).to(dLdz)\n",
    "            adj_p = torch.zeros(bs, n_params).to(dLdz)\n",
    "            # In contrast to z and p we need to return gradients for all times\n",
    "            adj_t = torch.zeros(time_len, bs, 1).to(dLdz)\n",
    "            \n",
    "            for i_t in range(time_len-1, 0, -1):\n",
    "                z_i = z[i_t]\n",
    "                t_i = t[i_t]\n",
    "                f_i = func(z_i, t_i).view(bs, n_dim)\n",
    "\n",
    "                # Compute direct gradients\n",
    "                dLdz_i = dLdz[i_t]\n",
    "                dLdt_i = torch.bmm(torch.transpose(dLdz_i.unsqueeze(-1), 1, 2), f_i.unsqueeze(-1))[:, 0]\n",
    "\n",
    "                # Adjusting adjoints with direct gradients\n",
    "                adj_z += dLdz_i\n",
    "                adj_t[i_t] = adj_t[i_t] - dLdt_i\n",
    "\n",
    "                # Pack augmented variable\n",
    "                aug_z = torch.cat((z_i.view(bs, n_dim), adj_z, torch.zeros(bs, n_params).to(z), adj_t[i_t]), dim=-1)\n",
    "\n",
    "                # Solve augmented system backwards\n",
    "                aug_ans = ode_solve(aug_z, t_i, t[i_t-1], augmented_dynamics)\n",
    "\n",
    "                # Unpack solved backwards augmented system\n",
    "                f = aug_ans[:, :n_dim]\n",
    "                adj_z[:] = aug_ans[:, n_dim:2*n_dim]\n",
    "                adj_p[:] += aug_ans[:, 2*n_dim:2*n_dim + n_params]\n",
    "                adj_t[i_t-1] = aug_ans[:, 2*n_dim + n_params:]\n",
    "\n",
    "                del aug_z, aug_ans\n",
    "\n",
    "            ## Adjust 0 time adjoint with direct gradients\n",
    "            # Compute direct gradients \n",
    "            dLdz_0 = dLdz[0]\n",
    "            dLdt_0 = torch.bmm(torch.transpose(dLdz_0.unsqueeze(-1), 1, 2), f_i.unsqueeze(-1))[:, 0]\n",
    "\n",
    "            # Adjust adjoints\n",
    "            adj_z += dLdz_0\n",
    "            adj_t[0] = adj_t[0] - dLdt_0\n",
    "        return f, adj_z.view(bs, *z_shape), adj_t, adj_p\n",
    "    \n",
    "    @staticmethod\n",
    "    def forward(ctx, z0, t, flat_parameters, func):\n",
    "        assert isinstance(func, ODEF)\n",
    "        bs, *z_shape = z0.size()\n",
    "        time_len = t.size(0)\n",
    "#         print(t.size(0))\n",
    "\n",
    "        with torch.no_grad():\n",
    "            z = torch.zeros(time_len, bs, *z_shape).to(z0)\n",
    "            z[0] = z0\n",
    "            for i_t in range(time_len - 1):\n",
    "                z0 = ode_solve(z0, t[i_t], t[i_t+1], func)\n",
    "                z[i_t+1] = z0\n",
    "\n",
    "        ctx.func = func\n",
    "        ctx.save_for_backward(t, z.clone(), flat_parameters)\n",
    "        return z\n",
    "\n",
    "    @staticmethod\n",
    "    def backward(ctx, dLdz):\n",
    "        \"\"\"\n",
    "        dLdz shape: time_len, batch_size, *z_shape\n",
    "        \"\"\"\n",
    "        func = ctx.func\n",
    "        t, z, flat_parameters = ctx.saved_tensors\n",
    "        f, adj_z, adj_t, adj_p = ODEAdjoint.backward_body(func, t, z, flat_parameters, dLdz)\n",
    "        return adj_z, adj_t, adj_p, None"
   ]
  },
  {
   "cell_type": "code",
   "execution_count": 6,
   "id": "a211c61b",
   "metadata": {},
   "outputs": [],
   "source": [
    "class NeuralODE(nn.Module):\n",
    "    def __init__(self, func):\n",
    "        super(NeuralODE, self).__init__()\n",
    "        assert isinstance(func, ODEF)\n",
    "        self.func = func\n",
    "    def set_weight(self, myu):\n",
    "        self.func.myu = nn.parameter(myu)\n",
    "    def get_weight(self):\n",
    "        return self.func.myu\n",
    "    def forward(self, z0, t, return_whole_sequence=False):\n",
    "        t = t.to(z0)\n",
    "        z = ODEAdjoint.apply(z0, t, self.func.flatten_parameters(), self.func)\n",
    "        if return_whole_sequence:\n",
    "            return z\n",
    "        else:\n",
    "            return z[-1]"
   ]
  },
  {
   "cell_type": "code",
   "execution_count": 7,
   "id": "658df739",
   "metadata": {},
   "outputs": [],
   "source": [
    "class GinzburgLandauSolver(ODEF):\n",
    "    def __init__(self, myu, dx,dy):\n",
    "        super(GinzburgLandauSolver, self).__init__()\n",
    "        self.myu = nn.Parameter(myu)\n",
    "        self.dx = dx\n",
    "        self.dy = dy\n",
    "    def forward(self, z0,t):\n",
    "        dx = self.dx\n",
    "        dy = self.dy\n",
    "        diff_matrix_x = -2 * torch.diag(torch.ones(z0.shape[0], dtype=torch.cfloat))\n",
    "        diff_matrix_y = -2 * torch.diag(torch.ones(z0.shape[0], dtype=torch.cfloat))\n",
    "        for i in range(len(z0)):\n",
    "            diff_matrix_x[i, (i + 1) % len(z0)] = 1\n",
    "            diff_matrix_x[i, (i - 1) % len(z0)] = 1\n",
    "            diff_matrix_y[i, (i + 1) % len(z0)] = 1\n",
    "            diff_matrix_y[i, (i - 1) % len(z0)] = 1\n",
    "        diff_matrix_x /= (dx**2)\n",
    "        diff_matrix_y /= (dy**2)\n",
    "        index = math.floor(t*4)\n",
    "        return torch.kron(self.myu[index], torch.ones(5,5)).real * z0 + z0 @ diff_matrix_x + diff_matrix_y @ z0 - torch.abs(z0)**2 * z0"
   ]
  },
  {
   "cell_type": "code",
   "execution_count": 39,
   "id": "c13a9f9a",
   "metadata": {},
   "outputs": [],
   "source": [
    "def conduct_experiment(ode_true, ode_trained, n_steps):\n",
    "#     obs creating part\n",
    "    all_ws = []\n",
    "    errors = []\n",
    "#     torch.manual_seed(123)\n",
    "#     z0 = Variable(torch.normal(torch.zeros((100, 100)), torch.ones((100, 100)))/100 + 1j * torch.normal(torch.zeros((100, 100)), torch.ones((100, 100)))/100)\n",
    "    z0 = Variable(torch.normal(torch.zeros((50, 50)), torch.ones((50, 50)))/100 + 1j * torch.normal(torch.zeros((50, 50)), torch.ones((50, 50)))/100)\n",
    "    t_max = 5\n",
    "    n_points = 100\n",
    "    index_np = np.arange(0, n_points, 1, dtype=int)\n",
    "    times_np = np.linspace(0, t_max, num=n_points)\n",
    "    times = torch.from_numpy(times_np).to(z0)\n",
    "    obs = ode_true(z0, times, return_whole_sequence=True).detach()\n",
    "    \n",
    "#     training part\n",
    "    \n",
    "    min_delta_time = 1\n",
    "    max_delta_time = 4\n",
    "    max_points_num = 80\n",
    "    optimizer = torch.optim.Adam(ode_trained.parameters(), lr=0.01)\n",
    "    \n",
    "    for i in tqdm(range(n_steps)):\n",
    "        def create_batch():\n",
    "            t0 = np.random.uniform(1, t_max - max_delta_time)\n",
    "            t1 = t0 + np.random.uniform(min_delta_time, max_delta_time)\n",
    "            valid_indices = index_np[(times_np > t0) & (times_np < t1)]\n",
    "            idx = sorted(np.random.permutation(valid_indices)[:max_points_num])\n",
    "            obs_ = obs[idx]\n",
    "            ts_ = times[idx]\n",
    "            return obs_, ts_\n",
    "        obs_, ts_ = create_batch()\n",
    "        \n",
    "        z_ = ode_trained(obs_[0], ts_, return_whole_sequence=True)\n",
    "        z_real = torch.real(z_)\n",
    "        z_imag = torch.imag(z_)\n",
    "        obs_real = torch.real(obs_.detach())\n",
    "        obs_imag = torch.imag(obs_.detach())\n",
    "        loss_real = F.mse_loss(z_real, obs_real)\n",
    "        loss_imag = F.mse_loss(z_imag, obs_imag)\n",
    "        loss = loss_real + loss_imag\n",
    "        errors.append(loss.item())\n",
    "        optimizer.zero_grad()\n",
    "        \n",
    "        loss_complex = loss.to(torch.cfloat)\n",
    "        loss.backward(retain_graph=True)\n",
    "        optimizer.step()\n",
    "        all_ws.append(ode_trained.get_weight().detach().numpy().copy())\n",
    "        z_p = ode_trained(z0, times, return_whole_sequence=True)\n",
    "        save_freq = 10\n",
    "#         print(z_p.real * z_p.imag)\n",
    "        if i % save_freq == 0:\n",
    "            clear_output(wait=True)\n",
    "            plt.plot(errors)\n",
    "            plt.show()\n",
    "            torch.save(torch.tensor(np.array(all_ws), dtype=torch.cfloat), os.path.join( \"current_mus_continue.pt\"))\n",
    "            torch.save(torch.tensor(np.array(errors), dtype=torch.cfloat), os.path.join( \"current_errors_continue.pt\"))\n",
    "\n",
    "#             torch.save(torch.tensor(np.array(all_ws), dtype=torch.cfloat), os.path.join( \"current_mus.pt\"))\n",
    "#             torch.save(torch.tensor(np.array(errors), dtype=torch.cfloat), os.path.join( \"current_errors.pt\"))\n",
    "    return all_ws, errors, obs, z_p\n"
   ]
  },
  {
   "cell_type": "code",
   "execution_count": 40,
   "id": "0310bc30",
   "metadata": {},
   "outputs": [],
   "source": [
    "def create_binary_tensor(shape,density,myu0,bayes):\n",
    "    binary_tensor = torch.zeros(shape)\n",
    "    total_elements = binary_tensor.numel()\n",
    "    indices = torch.randperm(total_elements)[:density]\n",
    "    binary_tensor.view(-1)[indices] = 1\n",
    "    binary_tensor = binary_tensor * myu0 \n",
    "    mask = (binary_tensor == 0)\n",
    "    binary_tensor[mask] += bayes\n",
    "    return binary_tensor"
   ]
  },
  {
   "cell_type": "code",
   "execution_count": 10,
   "id": "65ac1bf3",
   "metadata": {},
   "outputs": [],
   "source": [
    "myu_list = []\n",
    "myu_list_tr = []\n",
    "myu0 = 50\n",
    "shape = (10,10)\n",
    "density = 60  \n",
    "bayes = 15\n",
    "num_tensors = 20\n",
    "dx = 0.28\n",
    "dy = 0.28\n",
    "for _ in range(num_tensors):\n",
    "    myu_list.append(create_binary_tensor(shape,density,myu0,bayes))\n",
    "for _ in range(num_tensors):\n",
    "    myu_list_tr.append(create_binary_tensor(shape,density,myu0,bayes))\n",
    "myu_tensor = torch.stack(myu_list)\n",
    "myu_tensor = myu_tensor.to(torch.cfloat)\n",
    "myu_tensor_tr = torch.stack(myu_list_tr)\n",
    "myu_tensor_tr = myu_tensor_tr.to(torch.cfloat)\n"
   ]
  },
  {
   "cell_type": "code",
   "execution_count": 11,
   "id": "cc0fff30",
   "metadata": {},
   "outputs": [
    {
     "data": {
      "text/plain": [
       "torch.Size([20, 10, 10])"
      ]
     },
     "execution_count": 11,
     "metadata": {},
     "output_type": "execute_result"
    }
   ],
   "source": [
    "myu_tensor.shape\n",
    "\n",
    "\n",
    "\n",
    "\n",
    "\n"
   ]
  },
  {
   "cell_type": "code",
   "execution_count": 46,
   "id": "bb5de1c2",
   "metadata": {},
   "outputs": [],
   "source": [
    "ode_true = NeuralODE(GinzburgLandauSolver(myu_tensor,dx,dy))\n",
    "ode_trained = NeuralODE(GinzburgLandauSolver(myuer[-1],dx,dy))"
   ]
  },
  {
   "cell_type": "code",
   "execution_count": null,
   "id": "98edd762",
   "metadata": {},
   "outputs": [
    {
     "data": {
      "image/png": "[encoded data removed]",
      "text/plain": [
       "<Figure size 640x480 with 1 Axes>"
      ]
     },
     "metadata": {},
     "output_type": "display_data"
    },
    {
     "name": "stderr",
     "output_type": "stream",
     "text": [
      "\n",
      " 18%|█████████████▍                                                               | 701/4000 [46:30<3:55:26,  4.28s/it]\u001b[A\n",
      " 18%|█████████████▌                                                               | 702/4000 [46:38<4:57:16,  5.41s/it]\u001b[A\n",
      " 18%|█████████████▌                                                               | 703/4000 [46:43<4:55:55,  5.39s/it]\u001b[A\n",
      " 18%|█████████████▌                                                               | 704/4000 [46:49<5:03:29,  5.52s/it]\u001b[A\n",
      " 18%|█████████████▌                                                               | 705/4000 [46:53<4:31:25,  4.94s/it]\u001b[A\n",
      " 18%|█████████████▌                                                               | 706/4000 [46:59<4:54:13,  5.36s/it]\u001b[A\n",
      " 18%|█████████████▌                                                               | 707/4000 [47:03<4:32:59,  4.97s/it]\u001b[A\n",
      " 18%|█████████████▋                                                               | 708/4000 [47:06<4:05:50,  4.48s/it]\u001b[A\n",
      " 18%|█████████████▋                                                               | 709/4000 [47:10<3:55:54,  4.30s/it]\u001b[A\n",
      " 18%|█████████████▋                                                               | 710/4000 [47:15<4:01:49,  4.41s/it]\u001b[A"
     ]
    }
   ],
   "source": [
    "ws,errors,obs,z_p = conduct_experiment(ode_true, ode_trained, 4000)"
   ]
  },
  {
   "cell_type": "code",
   "execution_count": 14,
   "id": "8ce2edda",
   "metadata": {},
   "outputs": [],
   "source": [
    "myuer = torch.load('current_mus.pt')\n",
    "myuer_cont = torch.load('current_mus_continue.pt') \n",
    "errors = torch.load('current_errors.pt')\n",
    "errors_cont = torch.load('current_errors_continue.pt') "
   ]
  },
  {
   "cell_type": "code",
   "execution_count": 141,
   "id": "23b81a15",
   "metadata": {},
   "outputs": [],
   "source": [
    "# errors_all = torch.cat((errors,errors_cont),dim = 0)\n",
    "# myus_all = torch.cat((myuer,myuer_cont),dim = 0)"
   ]
  },
  {
   "cell_type": "code",
   "execution_count": 15,
   "id": "809de9fd",
   "metadata": {},
   "outputs": [],
   "source": [
    "new_ri_ode = obs.real * obs.imag\n",
    "new_ri_z_p = z_p.real * z_p.imag\n",
    "b = new_ri_z_p.detach().numpy()\n",
    "a = new_ri_ode.numpy()"
   ]
  },
  {
   "cell_type": "code",
   "execution_count": 16,
   "id": "73e25f6f",
   "metadata": {},
   "outputs": [
    {
     "name": "stdout",
     "output_type": "stream",
     "text": [
      "False\n",
      "False\n"
     ]
    }
   ],
   "source": [
    "print(np.isnan(a).any())\n",
    "print(np.isnan(b).any())"
   ]
  },
  {
   "cell_type": "code",
   "execution_count": 25,
   "id": "c3bd31fe",
   "metadata": {},
   "outputs": [
    {
     "data": {
      "text/plain": [
       "(20, 10, 10)"
      ]
     },
     "execution_count": 25,
     "metadata": {},
     "output_type": "execute_result"
    }
   ],
   "source": [
    "ws[0].shape"
   ]
  },
  {
   "cell_type": "code",
   "execution_count": 31,
   "id": "c61cb103",
   "metadata": {},
   "outputs": [
    {
     "name": "stderr",
     "output_type": "stream",
     "text": [
      "C:\\Users\\Dell\\AppData\\Local\\Temp\\ipykernel_12592\\3526042525.py:6: UserWarning: To copy construct from a tensor, it is recommended to use sourceTensor.clone().detach() or sourceTensor.clone().detach().requires_grad_(True), rather than torch.tensor(sourceTensor).\n",
      "  d = torch.tensor(d.clone().detach())\n"
     ]
    }
   ],
   "source": [
    "n_steps = 4991\n",
    "def calc_myuloss(n_steps,myuer,myu_tensor):\n",
    "    myu_loss_list = []\n",
    "    for i in range(n_steps):\n",
    "        d = myuer[i]\n",
    "        d = torch.tensor(d.clone().detach())\n",
    "#         d = torch.tensor(d)\n",
    "        d = d.to(torch.float32)\n",
    "        myu_tensor = myu_tensor.to(torch.float32)\n",
    "        myu1 = F.mse_loss(myu_tensor,d)\n",
    "        myu_loss_list.append(myu1)\n",
    "    return myu_loss_list\n",
    "myu_loss = calc_myuloss(n_steps,myuer,myu_tensor)"
   ]
  },
  {
   "cell_type": "code",
   "execution_count": 32,
   "id": "b0f296bb",
   "metadata": {},
   "outputs": [
    {
     "data": {
      "text/plain": [
       "[<matplotlib.lines.Line2D at 0x1ff00000a90>]"
      ]
     },
     "execution_count": 32,
     "metadata": {},
     "output_type": "execute_result"
    },
    {
     "data": {
      "image/png": "[encoded data removed]",
      "text/plain": [
       "<Figure size 640x480 with 1 Axes>"
      ]
     },
     "metadata": {},
     "output_type": "display_data"
    }
   ],
   "source": [
    "plt.plot(myu_loss)"
   ]
  },
  {
   "cell_type": "code",
   "execution_count": 20,
   "id": "edb6eaac",
   "metadata": {},
   "outputs": [],
   "source": [
    "import matplotlib.colors as mcolors\n",
    "def process_frame(index):\n",
    "    fig, axs = plt.subplots()\n",
    "    plt.subplots_adjust(wspace=0.8)\n",
    "#     im1 = axs.imshow(a[index], interpolation='none', cmap=cmap)\n",
    "    im1 = axs.imshow(a[index],cmap = 'ocean')\n",
    "    axs.set_title(\"points complex*real\") \n",
    "\n",
    "#     # Create a new colormap with the adjusted function\n",
    "#     adjusted_cmap = mcolors.ListedColormap([cmap_adjust(i) for i in range(256)])\n",
    "#     im1 = axs.imshow(b, interpolation='none', cmap=adjusted_cmap, norm=norm)\n",
    "    \n",
    "    \n",
    "    \n",
    "    fig.colorbar(im1, ax=axs, fraction=0.046, pad=0.04)\n",
    "    fig.canvas.draw()\n",
    "    image = np.frombuffer(fig.canvas.tostring_rgb(), dtype='uint8')\n",
    "    image = image.reshape(fig.canvas.get_width_height()[::-1] + (3,))\n",
    "    plt.close(fig)\n",
    "    \n",
    "    return image\n",
    "\n",
    "\n"
   ]
  },
  {
   "cell_type": "code",
   "execution_count": 21,
   "id": "58bc7601",
   "metadata": {},
   "outputs": [],
   "source": [
    "myu_tensor = myu_tensor.to(torch.float32)"
   ]
  },
  {
   "cell_type": "code",
   "execution_count": 36,
   "id": "98f57c75",
   "metadata": {},
   "outputs": [
    {
     "name": "stderr",
     "output_type": "stream",
     "text": [
      "C:\\Users\\Dell\\AppData\\Local\\Temp\\ipykernel_12592\\591778396.py:3: UserWarning: To copy construct from a tensor, it is recommended to use sourceTensor.clone().detach() or sourceTensor.clone().detach().requires_grad_(True), rather than torch.tensor(sourceTensor).\n",
      "  c = torch.tensor(c.clone().detach())\n"
     ]
    },
    {
     "ename": "AttributeError",
     "evalue": "'numpy.ndarray' object has no attribute 'clone'",
     "output_type": "error",
     "traceback": [
      "\u001b[1;31m---------------------------------------------------------------------------\u001b[0m",
      "\u001b[1;31mAttributeError\u001b[0m                            Traceback (most recent call last)",
      "Cell \u001b[1;32mIn[36], line 8\u001b[0m\n\u001b[0;32m      6\u001b[0m \u001b[38;5;28;01mimport\u001b[39;00m \u001b[38;5;21;01mmatplotlib\u001b[39;00m\u001b[38;5;21;01m.\u001b[39;00m\u001b[38;5;21;01mcolors\u001b[39;00m \u001b[38;5;28;01mas\u001b[39;00m \u001b[38;5;21;01mmcolors\u001b[39;00m\n\u001b[0;32m      7\u001b[0m d \u001b[38;5;241m=\u001b[39m ws\n\u001b[1;32m----> 8\u001b[0m d[\u001b[38;5;241m-\u001b[39m\u001b[38;5;241m1\u001b[39m] \u001b[38;5;241m=\u001b[39m torch\u001b[38;5;241m.\u001b[39mtensor(\u001b[43md\u001b[49m\u001b[43m[\u001b[49m\u001b[38;5;241;43m-\u001b[39;49m\u001b[38;5;241;43m1\u001b[39;49m\u001b[43m]\u001b[49m\u001b[38;5;241;43m.\u001b[39;49m\u001b[43mclone\u001b[49m()\u001b[38;5;241m.\u001b[39mdetach())\n\u001b[0;32m     10\u001b[0m d[\u001b[38;5;241m-\u001b[39m\u001b[38;5;241m1\u001b[39m] \u001b[38;5;241m=\u001b[39m d[\u001b[38;5;241m-\u001b[39m\u001b[38;5;241m1\u001b[39m]\u001b[38;5;241m.\u001b[39mto(torch\u001b[38;5;241m.\u001b[39mfloat32)\n\u001b[0;32m     12\u001b[0m \u001b[38;5;28;01mdef\u001b[39;00m \u001b[38;5;21mprocess_frame\u001b[39m(index):\n",
      "\u001b[1;31mAttributeError\u001b[0m: 'numpy.ndarray' object has no attribute 'clone'"
     ]
    }
   ],
   "source": [
    "c = myuer[-1]\n",
    "# c = torch.tensor(c)\n",
    "c = torch.tensor(c.clone().detach())\n",
    "c = c.to(torch.float32)\n",
    "myu_tensor_tr = myu_tensor_tr.to(torch.float32)\n",
    "import matplotlib.colors as mcolors\n",
    "d = ws\n",
    "d[-1] = torch.tensor(d[-1].clone().detach())\n",
    "\n",
    "d[-1] = d[-1].to(torch.float32)\n",
    "\n",
    "def process_frame(index):\n",
    "    fig, axs = plt.subplots(2, 3, figsize=(24, 8))\n",
    "    plt.subplots_adjust(wspace=0.5)\n",
    "    \n",
    "    im1 = axs[0][0].imshow(a[index],cmap = 'ocean')\n",
    "    axs[0][0].set_title(\" $\\Re{(A)} * Im{(A)} $ \")\n",
    "\n",
    "    im2 = axs[0][1].imshow(b[index],cmap = 'ocean')\n",
    "    axs[0][1].set_title(\" $\\Re{(A)} * Im{(A)} TRAINED $  \")\n",
    "    \n",
    "    im3 = axs[0][2].plot(errors)\n",
    "    axs[0][2].set_title(\" Loss \")\n",
    "    \n",
    "    im4 = axs[1][0].imshow(myu_tensor[int(index/5)],cmap = 'ocean')\n",
    "    axs[1][0].set_title(\" myu   \")\n",
    "    \n",
    "    im5 = axs[1][1].imshow(c[int(index/5)],cmap = 'ocean')\n",
    "    axs[1][1].set_title(\" myu trained \")\n",
    "    \n",
    "    im6 = axs[1][2].plot(myu_loss)\n",
    "    axs[1][2].set_title(\" myu LOSS \")\n",
    "    \n",
    "    fig.colorbar(im1, ax=axs[0][0], fraction=0.046, pad=0.04)\n",
    "    fig.colorbar(im2, ax=axs[0][1], fraction=0.046, pad=0.04)\n",
    "    fig.colorbar(im4, ax=axs[1][0], fraction=0.046, pad=0.04)\n",
    "    fig.colorbar(im5, ax=axs[1][1], fraction=0.046, pad=0.04)\n",
    "    \n",
    "\n",
    "    \n",
    "    fig.canvas.draw()\n",
    "    image = np.frombuffer(fig.canvas.tostring_rgb(), dtype='uint8')\n",
    "    image = image.reshape(fig.canvas.get_width_height()[::-1] + (3,))\n",
    "    plt.close(fig)\n",
    "    return image\n",
    "\n",
    "\n"
   ]
  },
  {
   "cell_type": "code",
   "execution_count": 27,
   "id": "736c6aec",
   "metadata": {},
   "outputs": [],
   "source": [
    "def create_video(original,   save: bool=False, \n",
    "                path_for_video: str=\"animation.mp4\", fps: int=20) -> Optional[Image] | None:\n",
    "    \n",
    "    num_cores = multiprocessing.cpu_count()\n",
    "\n",
    "    \n",
    "\n",
    "#     images = Parallel(n_jobs=num_cores)(delayed(process_frame(index)) for index in tqdm(range(original.shape[0])))\n",
    "#     images = Parallel(n_jobs=num_cores)(delayed(process_frame)(index) for index in tqdm(range(original.shape[0])))\n",
    "    images = Parallel(n_jobs=num_cores)(delayed(process_frame)(index) for index in tqdm(range(original.shape[0])))\n",
    "\n",
    "    if save:\n",
    "        images = [cv2.cvtColor(img, cv2.COLOR_RGB2BGR) for img in images]\n",
    "        height, width, _ = images[0].shape\n",
    "        video = cv2.VideoWriter(path_for_video, cv2.VideoWriter_fourcc(*'mp4v'), fps, (width, height))\n",
    "        for img in images:\n",
    "            video.write(img)\n",
    "        video.release()\n",
    "        print(\"Video successfully saved \")\n",
    "        return None"
   ]
  },
  {
   "cell_type": "code",
   "execution_count": 28,
   "id": "c6867ed6",
   "metadata": {},
   "outputs": [
    {
     "name": "stderr",
     "output_type": "stream",
     "text": [
      " 16%|████████████▉                                                                    | 16/100 [00:01<00:09,  8.53it/s]"
     ]
    },
    {
     "ename": "TypeError",
     "evalue": "Image data of dtype complex64 cannot be converted to float",
     "output_type": "error",
     "traceback": [
      "\u001b[1;31m---------------------------------------------------------------------------\u001b[0m",
      "\u001b[1;31m_RemoteTraceback\u001b[0m                          Traceback (most recent call last)",
      "\u001b[1;31m_RemoteTraceback\u001b[0m: \n\"\"\"\nTraceback (most recent call last):\n  File \"C:\\Python\\ML\\venv\\lib\\site-packages\\joblib\\externals\\loky\\process_executor.py\", line 428, in _process_worker\n    r = call_item()\n  File \"C:\\Python\\ML\\venv\\lib\\site-packages\\joblib\\externals\\loky\\process_executor.py\", line 275, in __call__\n    return self.fn(*self.args, **self.kwargs)\n  File \"C:\\Python\\ML\\venv\\lib\\site-packages\\joblib\\_parallel_backends.py\", line 620, in __call__\n    return self.func(*args, **kwargs)\n  File \"C:\\Python\\ML\\venv\\lib\\site-packages\\joblib\\parallel.py\", line 288, in __call__\n    return [func(*args, **kwargs)\n  File \"C:\\Python\\ML\\venv\\lib\\site-packages\\joblib\\parallel.py\", line 288, in <listcomp>\n    return [func(*args, **kwargs)\n  File \"C:\\Users\\Dell\\AppData\\Local\\Temp\\ipykernel_12592\\480627677.py\", line 23, in process_frame\n  File \"C:\\Python\\ML\\venv\\lib\\site-packages\\matplotlib\\_api\\deprecation.py\", line 454, in wrapper\n    return func(*args, **kwargs)\n  File \"C:\\Python\\ML\\venv\\lib\\site-packages\\matplotlib\\__init__.py\", line 1423, in inner\n    return func(ax, *map(sanitize_sequence, args), **kwargs)\n  File \"C:\\Python\\ML\\venv\\lib\\site-packages\\matplotlib\\axes\\_axes.py\", line 5604, in imshow\n    im.set_data(X)\n  File \"C:\\Python\\ML\\venv\\lib\\site-packages\\matplotlib\\image.py\", line 701, in set_data\n    raise TypeError(\"Image data of dtype {} cannot be converted to \"\nTypeError: Image data of dtype complex64 cannot be converted to float\n\"\"\"",
      "\nThe above exception was the direct cause of the following exception:\n",
      "\u001b[1;31mTypeError\u001b[0m                                 Traceback (most recent call last)",
      "Cell \u001b[1;32mIn[28], line 1\u001b[0m\n\u001b[1;32m----> 1\u001b[0m \u001b[43mcreate_video\u001b[49m\u001b[43m(\u001b[49m\u001b[43ma\u001b[49m\u001b[43m,\u001b[49m\u001b[43m \u001b[49m\u001b[43msave\u001b[49m\u001b[38;5;241;43m=\u001b[39;49m\u001b[38;5;28;43;01mTrue\u001b[39;49;00m\u001b[43m,\u001b[49m\u001b[43m \u001b[49m\u001b[43mpath_for_video\u001b[49m\u001b[38;5;241;43m=\u001b[39;49m\u001b[38;5;124;43m\"\u001b[39;49m\u001b[38;5;124;43mjamanaky sksvume 1 pahic trainingi t_max = 5, n_points = 100,n_steps = 5000 myu0 = 50, bayees  = 15 shapemyu = (10,10), density = 60,  , num_tensors = 50, dx = 0.28, dy = 0.28.mp4\u001b[39;49m\u001b[38;5;124;43m\"\u001b[39;49m\u001b[43m,\u001b[49m\u001b[43m \u001b[49m\u001b[43mfps\u001b[49m\u001b[38;5;241;43m=\u001b[39;49m\u001b[38;5;241;43m15\u001b[39;49m\u001b[43m)\u001b[49m\n\u001b[0;32m      2\u001b[0m \u001b[38;5;66;03m# create_video(a, save=True, path_for_video=\"experiment 1:9,1:9 myu\", fps=15)\u001b[39;00m\n",
      "Cell \u001b[1;32mIn[27], line 10\u001b[0m, in \u001b[0;36mcreate_video\u001b[1;34m(original, save, path_for_video, fps)\u001b[0m\n\u001b[0;32m      4\u001b[0m     num_cores \u001b[38;5;241m=\u001b[39m multiprocessing\u001b[38;5;241m.\u001b[39mcpu_count()\n\u001b[0;32m      8\u001b[0m \u001b[38;5;66;03m#     images = Parallel(n_jobs=num_cores)(delayed(process_frame(index)) for index in tqdm(range(original.shape[0])))\u001b[39;00m\n\u001b[0;32m      9\u001b[0m \u001b[38;5;66;03m#     images = Parallel(n_jobs=num_cores)(delayed(process_frame)(index) for index in tqdm(range(original.shape[0])))\u001b[39;00m\n\u001b[1;32m---> 10\u001b[0m     images \u001b[38;5;241m=\u001b[39m \u001b[43mParallel\u001b[49m\u001b[43m(\u001b[49m\u001b[43mn_jobs\u001b[49m\u001b[38;5;241;43m=\u001b[39;49m\u001b[43mnum_cores\u001b[49m\u001b[43m)\u001b[49m\u001b[43m(\u001b[49m\u001b[43mdelayed\u001b[49m\u001b[43m(\u001b[49m\u001b[43mprocess_frame\u001b[49m\u001b[43m)\u001b[49m\u001b[43m(\u001b[49m\u001b[43mindex\u001b[49m\u001b[43m)\u001b[49m\u001b[43m \u001b[49m\u001b[38;5;28;43;01mfor\u001b[39;49;00m\u001b[43m \u001b[49m\u001b[43mindex\u001b[49m\u001b[43m \u001b[49m\u001b[38;5;129;43;01min\u001b[39;49;00m\u001b[43m \u001b[49m\u001b[43mtqdm\u001b[49m\u001b[43m(\u001b[49m\u001b[38;5;28;43mrange\u001b[39;49m\u001b[43m(\u001b[49m\u001b[43moriginal\u001b[49m\u001b[38;5;241;43m.\u001b[39;49m\u001b[43mshape\u001b[49m\u001b[43m[\u001b[49m\u001b[38;5;241;43m0\u001b[39;49m\u001b[43m]\u001b[49m\u001b[43m)\u001b[49m\u001b[43m)\u001b[49m\u001b[43m)\u001b[49m\n\u001b[0;32m     12\u001b[0m     \u001b[38;5;28;01mif\u001b[39;00m save:\n\u001b[0;32m     13\u001b[0m         images \u001b[38;5;241m=\u001b[39m [cv2\u001b[38;5;241m.\u001b[39mcvtColor(img, cv2\u001b[38;5;241m.\u001b[39mCOLOR_RGB2BGR) \u001b[38;5;28;01mfor\u001b[39;00m img \u001b[38;5;129;01min\u001b[39;00m images]\n",
      "File \u001b[1;32mC:\\Python\\ML\\venv\\lib\\site-packages\\joblib\\parallel.py:1098\u001b[0m, in \u001b[0;36mParallel.__call__\u001b[1;34m(self, iterable)\u001b[0m\n\u001b[0;32m   1095\u001b[0m     \u001b[38;5;28mself\u001b[39m\u001b[38;5;241m.\u001b[39m_iterating \u001b[38;5;241m=\u001b[39m \u001b[38;5;28;01mFalse\u001b[39;00m\n\u001b[0;32m   1097\u001b[0m \u001b[38;5;28;01mwith\u001b[39;00m \u001b[38;5;28mself\u001b[39m\u001b[38;5;241m.\u001b[39m_backend\u001b[38;5;241m.\u001b[39mretrieval_context():\n\u001b[1;32m-> 1098\u001b[0m     \u001b[38;5;28;43mself\u001b[39;49m\u001b[38;5;241;43m.\u001b[39;49m\u001b[43mretrieve\u001b[49m\u001b[43m(\u001b[49m\u001b[43m)\u001b[49m\n\u001b[0;32m   1099\u001b[0m \u001b[38;5;66;03m# Make sure that we get a last message telling us we are done\u001b[39;00m\n\u001b[0;32m   1100\u001b[0m elapsed_time \u001b[38;5;241m=\u001b[39m time\u001b[38;5;241m.\u001b[39mtime() \u001b[38;5;241m-\u001b[39m \u001b[38;5;28mself\u001b[39m\u001b[38;5;241m.\u001b[39m_start_time\n",
      "File \u001b[1;32mC:\\Python\\ML\\venv\\lib\\site-packages\\joblib\\parallel.py:975\u001b[0m, in \u001b[0;36mParallel.retrieve\u001b[1;34m(self)\u001b[0m\n\u001b[0;32m    973\u001b[0m \u001b[38;5;28;01mtry\u001b[39;00m:\n\u001b[0;32m    974\u001b[0m     \u001b[38;5;28;01mif\u001b[39;00m \u001b[38;5;28mgetattr\u001b[39m(\u001b[38;5;28mself\u001b[39m\u001b[38;5;241m.\u001b[39m_backend, \u001b[38;5;124m'\u001b[39m\u001b[38;5;124msupports_timeout\u001b[39m\u001b[38;5;124m'\u001b[39m, \u001b[38;5;28;01mFalse\u001b[39;00m):\n\u001b[1;32m--> 975\u001b[0m         \u001b[38;5;28mself\u001b[39m\u001b[38;5;241m.\u001b[39m_output\u001b[38;5;241m.\u001b[39mextend(\u001b[43mjob\u001b[49m\u001b[38;5;241;43m.\u001b[39;49m\u001b[43mget\u001b[49m\u001b[43m(\u001b[49m\u001b[43mtimeout\u001b[49m\u001b[38;5;241;43m=\u001b[39;49m\u001b[38;5;28;43mself\u001b[39;49m\u001b[38;5;241;43m.\u001b[39;49m\u001b[43mtimeout\u001b[49m\u001b[43m)\u001b[49m)\n\u001b[0;32m    976\u001b[0m     \u001b[38;5;28;01melse\u001b[39;00m:\n\u001b[0;32m    977\u001b[0m         \u001b[38;5;28mself\u001b[39m\u001b[38;5;241m.\u001b[39m_output\u001b[38;5;241m.\u001b[39mextend(job\u001b[38;5;241m.\u001b[39mget())\n",
      "File \u001b[1;32mC:\\Python\\ML\\venv\\lib\\site-packages\\joblib\\_parallel_backends.py:567\u001b[0m, in \u001b[0;36mLokyBackend.wrap_future_result\u001b[1;34m(future, timeout)\u001b[0m\n\u001b[0;32m    564\u001b[0m \u001b[38;5;124;03m\"\"\"Wrapper for Future.result to implement the same behaviour as\u001b[39;00m\n\u001b[0;32m    565\u001b[0m \u001b[38;5;124;03mAsyncResults.get from multiprocessing.\"\"\"\u001b[39;00m\n\u001b[0;32m    566\u001b[0m \u001b[38;5;28;01mtry\u001b[39;00m:\n\u001b[1;32m--> 567\u001b[0m     \u001b[38;5;28;01mreturn\u001b[39;00m \u001b[43mfuture\u001b[49m\u001b[38;5;241;43m.\u001b[39;49m\u001b[43mresult\u001b[49m\u001b[43m(\u001b[49m\u001b[43mtimeout\u001b[49m\u001b[38;5;241;43m=\u001b[39;49m\u001b[43mtimeout\u001b[49m\u001b[43m)\u001b[49m\n\u001b[0;32m    568\u001b[0m \u001b[38;5;28;01mexcept\u001b[39;00m CfTimeoutError \u001b[38;5;28;01mas\u001b[39;00m e:\n\u001b[0;32m    569\u001b[0m     \u001b[38;5;28;01mraise\u001b[39;00m \u001b[38;5;167;01mTimeoutError\u001b[39;00m \u001b[38;5;28;01mfrom\u001b[39;00m \u001b[38;5;21;01me\u001b[39;00m\n",
      "File \u001b[1;32m~\\AppData\\Local\\Programs\\Python\\Python310\\lib\\concurrent\\futures\\_base.py:458\u001b[0m, in \u001b[0;36mFuture.result\u001b[1;34m(self, timeout)\u001b[0m\n\u001b[0;32m    456\u001b[0m     \u001b[38;5;28;01mraise\u001b[39;00m CancelledError()\n\u001b[0;32m    457\u001b[0m \u001b[38;5;28;01melif\u001b[39;00m \u001b[38;5;28mself\u001b[39m\u001b[38;5;241m.\u001b[39m_state \u001b[38;5;241m==\u001b[39m FINISHED:\n\u001b[1;32m--> 458\u001b[0m     \u001b[38;5;28;01mreturn\u001b[39;00m \u001b[38;5;28;43mself\u001b[39;49m\u001b[38;5;241;43m.\u001b[39;49m\u001b[43m__get_result\u001b[49m\u001b[43m(\u001b[49m\u001b[43m)\u001b[49m\n\u001b[0;32m    459\u001b[0m \u001b[38;5;28;01melse\u001b[39;00m:\n\u001b[0;32m    460\u001b[0m     \u001b[38;5;28;01mraise\u001b[39;00m \u001b[38;5;167;01mTimeoutError\u001b[39;00m()\n",
      "File \u001b[1;32m~\\AppData\\Local\\Programs\\Python\\Python310\\lib\\concurrent\\futures\\_base.py:403\u001b[0m, in \u001b[0;36mFuture.__get_result\u001b[1;34m(self)\u001b[0m\n\u001b[0;32m    401\u001b[0m \u001b[38;5;28;01mif\u001b[39;00m \u001b[38;5;28mself\u001b[39m\u001b[38;5;241m.\u001b[39m_exception:\n\u001b[0;32m    402\u001b[0m     \u001b[38;5;28;01mtry\u001b[39;00m:\n\u001b[1;32m--> 403\u001b[0m         \u001b[38;5;28;01mraise\u001b[39;00m \u001b[38;5;28mself\u001b[39m\u001b[38;5;241m.\u001b[39m_exception\n\u001b[0;32m    404\u001b[0m     \u001b[38;5;28;01mfinally\u001b[39;00m:\n\u001b[0;32m    405\u001b[0m         \u001b[38;5;66;03m# Break a reference cycle with the exception in self._exception\u001b[39;00m\n\u001b[0;32m    406\u001b[0m         \u001b[38;5;28mself\u001b[39m \u001b[38;5;241m=\u001b[39m \u001b[38;5;28;01mNone\u001b[39;00m\n",
      "\u001b[1;31mTypeError\u001b[0m: Image data of dtype complex64 cannot be converted to float"
     ]
    }
   ],
   "source": [
    "create_video(a, save=True, path_for_video=\"jamanaky sksvume 1 pahic trainingi t_max = 5, n_points = 100,n_steps = 5000 myu0 = 50, bayees  = 15 shapemyu = (10,10), density = 60,  , num_tensors = 50, dx = 0.28, dy = 0.28.mp4\", fps=15)\n",
    "# create_video(a, save=True, path_for_video=\"experiment 1:9,1:9 myu\", fps=15)\n"
   ]
  },
  {
   "cell_type": "code",
   "execution_count": null,
   "id": "bf28fb66",
   "metadata": {},
   "outputs": [],
   "source": []
  }
 ],
 "metadata": {
  "kernelspec": {
   "display_name": "Python 3 (ipykernel)",
   "language": "python",
   "name": "python3"
  },
  "language_info": {
   "codemirror_mode": {
    "name": "ipython",
    "version": 3
   },
   "file_extension": ".py",
   "mimetype": "text/x-python",
   "name": "python",
   "nbconvert_exporter": "python",
   "pygments_lexer": "ipython3",
   "version": "3.10.6"
  }
 },
 "nbformat": 4,
 "nbformat_minor": 5
}
